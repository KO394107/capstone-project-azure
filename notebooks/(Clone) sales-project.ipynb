{
 "cells": [
  {
   "cell_type": "code",
   "execution_count": 0,
   "metadata": {
    "application/vnd.databricks.v1+cell": {
     "cellMetadata": {
      "byteLimit": 2048000,
      "rowLimit": 10000
     },
     "inputWidgets": {},
     "nuid": "4ab7209d-b9e6-4003-8a4f-3bd45595b6d8",
     "showTitle": false,
     "tableResultSettingsMap": {},
     "title": ""
    }
   },
   "outputs": [],
   "source": [
    "dbutils.fs.mounts()"
   ]
  },
  {
   "cell_type": "code",
   "execution_count": 0,
   "metadata": {
    "application/vnd.databricks.v1+cell": {
     "cellMetadata": {
      "byteLimit": 2048000,
      "rowLimit": 10000
     },
     "inputWidgets": {},
     "nuid": "e69a4cdd-fe40-4d89-8029-8c88ea0a4d12",
     "showTitle": false,
     "tableResultSettingsMap": {},
     "title": ""
    }
   },
   "outputs": [],
   "source": [
    "dbutils.fs.unmount('/mnt/sales')"
   ]
  },
  {
   "cell_type": "code",
   "execution_count": 0,
   "metadata": {
    "application/vnd.databricks.v1+cell": {
     "cellMetadata": {
      "byteLimit": 2048000,
      "rowLimit": 10000
     },
     "inputWidgets": {},
     "nuid": "95b167e2-311a-44c8-8023-043fe2397625",
     "showTitle": false,
     "tableResultSettingsMap": {},
     "title": ""
    }
   },
   "outputs": [],
   "source": [
    "dbutils.secrets.listScopes()"
   ]
  },
  {
   "cell_type": "code",
   "execution_count": 0,
   "metadata": {
    "application/vnd.databricks.v1+cell": {
     "cellMetadata": {
      "byteLimit": 2048000,
      "rowLimit": 10000
     },
     "inputWidgets": {},
     "nuid": "5e9b6d30-4155-454c-a476-f7e1cdfaef81",
     "showTitle": false,
     "tableResultSettingsMap": {},
     "title": ""
    }
   },
   "outputs": [],
   "source": [
    "dbutils.secrets.list('capstone-dl')"
   ]
  },
  {
   "cell_type": "code",
   "execution_count": 0,
   "metadata": {
    "application/vnd.databricks.v1+cell": {
     "cellMetadata": {
      "byteLimit": 2048000,
      "rowLimit": 10000
     },
     "inputWidgets": {},
     "nuid": "216579f0-9432-475a-94a4-608ee2937dfc",
     "showTitle": false,
     "tableResultSettingsMap": {},
     "title": ""
    }
   },
   "outputs": [],
   "source": [
    "\n",
    "client_id = dbutils.secrets.get(scope='capstone-dl', key='client-id')\n",
    "secret_value = dbutils.secrets.get(scope='capstone-dl', key='secretvalue')\n",
    "tenant_id = dbutils.secrets.get(scope='capstone-dl', key='tenantid')\n",
    "\n",
    "configs = {\n",
    "  \"fs.azure.account.auth.type\": \"OAuth\",\n",
    "  \"fs.azure.account.oauth.provider.type\": \"org.apache.hadoop.fs.azurebfs.oauth2.ClientCredsTokenProvider\",\n",
    "  \"fs.azure.account.oauth2.client.id\": client_id,\n",
    "  \"fs.azure.account.oauth2.client.secret\": secret_value,\n",
    "  \"fs.azure.account.oauth2.client.endpoint\": \"https://login.microsoftonline.com/\" + tenant_id + \"/oauth2/token\"\n",
    "}\n",
    "\n",
    "dbutils.fs.mount(\n",
    "  source = \"abfss://sales@capstoneadls.dfs.core.windows.net/\",\n",
    "  mount_point = \"/mnt/sales\",\n",
    "  extra_configs = configs\n",
    ")\n",
    "\n"
   ]
  },
  {
   "cell_type": "code",
   "execution_count": 0,
   "metadata": {
    "application/vnd.databricks.v1+cell": {
     "cellMetadata": {
      "byteLimit": 2048000,
      "rowLimit": 10000
     },
     "inputWidgets": {},
     "nuid": "79193907-17c0-4030-b355-d327fc4bbace",
     "showTitle": false,
     "tableResultSettingsMap": {},
     "title": ""
    }
   },
   "outputs": [],
   "source": [
    "dbutils.fs.ls('/mnt/sales/landing')"
   ]
  },
  {
   "cell_type": "code",
   "execution_count": 0,
   "metadata": {
    "application/vnd.databricks.v1+cell": {
     "cellMetadata": {
      "byteLimit": 2048000,
      "rowLimit": 10000
     },
     "inputWidgets": {},
     "nuid": "1b325f86-2d67-443b-9e89-ce9bbd8f32da",
     "showTitle": false,
     "tableResultSettingsMap": {},
     "title": ""
    }
   },
   "outputs": [],
   "source": [
    "# Define connection parameters\n",
    "dbServer = 'capstoneweek'  # already includes .database.windows.net in the URL\n",
    "dbPort = '1433'\n",
    "dbName = 'capstoneproject'\n",
    "dbUser = 'capstone'\n",
    "databricksScope = 'capstone-dl'\n",
    "\n",
    "# Retrieve password securely from Databricks secret scope\n",
    "dbPassword = dbutils.secrets.get(scope=databricksScope, key='sql-passwd')\n",
    "\n",
    "# Construct JDBC URL\n",
    "connectionUrl = f'jdbc:sqlserver://{dbServer}.database.windows.net:{dbPort};database={dbName};user={dbUser}'\n",
    "\n",
    "# Define connection properties\n",
    "connectionProperties = {\n",
    "    'password': dbPassword,\n",
    "    'driver': 'com.microsoft.sqlserver.jdbc.SQLServerDriver'\n",
    "}\n",
    "\n",
    "# Read data from SQL table into Spark DataFrame\n",
    "validStatusDf = spark.read.jdbc(\n",
    "    url=connectionUrl,\n",
    "    table='dbo.valid_order_status',\n",
    "    properties=connectionProperties\n",
    ")\n",
    "\n",
    "# Display the DataFrame\n",
    "display(validStatusDf)\n"
   ]
  },
  {
   "cell_type": "code",
   "execution_count": 0,
   "metadata": {
    "application/vnd.databricks.v1+cell": {
     "cellMetadata": {
      "byteLimit": 2048000,
      "rowLimit": 10000
     },
     "inputWidgets": {},
     "nuid": "f913b787-6fd3-4a56-b7e6-a9a7ecaaab6e",
     "showTitle": false,
     "tableResultSettingsMap": {},
     "title": ""
    }
   },
   "outputs": [],
   "source": [
    "ordersDf = spark.read.format(\"csv\").option(\"header\", \"true\").option(\"inferSchema\", \"true\").load(\"/mnt/sales/landing/week24_orders.csv\")"
   ]
  },
  {
   "cell_type": "code",
   "execution_count": 0,
   "metadata": {
    "application/vnd.databricks.v1+cell": {
     "cellMetadata": {
      "byteLimit": 2048000,
      "rowLimit": 10000
     },
     "inputWidgets": {},
     "nuid": "068f50b8-962a-42ce-a05c-3ba55954a7a2",
     "showTitle": false,
     "tableResultSettingsMap": {},
     "title": ""
    }
   },
   "outputs": [],
   "source": [
    "ordersDf.groupBy('order_id').count().filter('count > 1').show()"
   ]
  },
  {
   "cell_type": "code",
   "execution_count": 0,
   "metadata": {
    "application/vnd.databricks.v1+cell": {
     "cellMetadata": {},
     "inputWidgets": {},
     "nuid": "0d3902ca-9b3b-4692-afa2-ca832f6e0788",
     "showTitle": false,
     "tableResultSettingsMap": {},
     "title": ""
    }
   },
   "outputs": [],
   "source": [
    "\n",
    "invalidDf = ordersDf.filter(~col(\"order_status\").isin(valid_status))\n"
   ]
  },
  {
   "cell_type": "code",
   "execution_count": 0,
   "metadata": {
    "application/vnd.databricks.v1+cell": {
     "cellMetadata": {
      "byteLimit": 2048000,
      "rowLimit": 10000
     },
     "inputWidgets": {},
     "nuid": "f8716015-a5ab-4b77-853a-7c20f7d20abe",
     "showTitle": false,
     "tableResultSettingsMap": {},
     "title": ""
    }
   },
   "outputs": [],
   "source": [
    "synapse_server_name = \"capstone-ws.sql.azuresynapse.net\"\n",
    "synapse_db_name = \"capstonededicated\"\n",
    "synapse_user_name = \"sqladminuser\"\n",
    "synapse_password = \"Gokul!23$\"\n",
    "\n",
    "synapse_jdbc_url = f\"jdbc:sqlserver://{synapse_server_name}:1433;database={synapse_db_name};user={synapse_user_name};password={synapse_password};encrypt=true;trustServerCertificate=false;hostNameInCertificate=*.sql.azuresynapse.net;loginTimeout=30;\"\n"
   ]
  },
  {
   "cell_type": "code",
   "execution_count": 0,
   "metadata": {
    "application/vnd.databricks.v1+cell": {
     "cellMetadata": {
      "byteLimit": 2048000,
      "rowLimit": 10000
     },
     "inputWidgets": {},
     "nuid": "2afcd213-bbc6-4dd3-96e8-40ea5cde4ab1",
     "showTitle": false,
     "tableResultSettingsMap": {},
     "title": ""
    }
   },
   "outputs": [],
   "source": [
    "ordersDf.write \\\n",
    "  .format(\"jdbc\") \\\n",
    "  .option(\"url\", synapse_jdbc_url) \\\n",
    "  .option(\"dbtable\", \"dbo.orders\") \\\n",
    "  .option(\"user\", \"sqladminuser\") \\\n",
    "  .option(\"password\", \"Gokul!23$\") \\\n",
    "  .option(\"driver\", \"com.microsoft.sqlserver.jdbc.SQLServerDriver\") \\\n",
    "  .mode(\"append\") \\\n",
    "  .save()"
   ]
  },
  {
   "cell_type": "code",
   "execution_count": 0,
   "metadata": {
    "application/vnd.databricks.v1+cell": {
     "cellMetadata": {},
     "inputWidgets": {},
     "nuid": "bafbe418-8230-4a35-b114-21e6b62fb6ae",
     "showTitle": false,
     "tableResultSettingsMap": {},
     "title": ""
    }
   },
   "outputs": [],
   "source": []
  }
 ],
 "metadata": {
  "application/vnd.databricks.v1+notebook": {
   "computePreferences": null,
   "dashboards": [],
   "environmentMetadata": {
    "base_environment": "",
    "environment_version": "2"
   },
   "inputWidgetPreferences": null,
   "language": "python",
   "notebookMetadata": {
    "pythonIndentUnit": 4
   },
   "notebookName": "(Clone) sales-project",
   "widgets": {}
  },
  "language_info": {
   "name": "python"
  }
 },
 "nbformat": 4,
 "nbformat_minor": 0
}
